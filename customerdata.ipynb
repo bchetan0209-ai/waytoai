{
 "cells": [
  {
   "cell_type": "code",
   "execution_count": 1,
   "id": "ad775777-1cb1-4937-8ad7-a49aa55aaf69",
   "metadata": {},
   "outputs": [
    {
     "name": "stdout",
     "output_type": "stream",
     "text": [
      "✅ Data generated and saved to 'customer_data_last_5_years.csv'\n"
     ]
    }
   ],
   "source": [
    "import pandas as pd\n",
    "import numpy as np\n",
    "from faker import Faker\n",
    "from datetime import datetime, timedelta\n",
    "import random\n",
    "\n",
    "# Initialize Faker\n",
    "fake = Faker()\n",
    "\n",
    "# Set seed for reproducibility\n",
    "Faker.seed(42)\n",
    "np.random.seed(42)\n",
    "\n",
    "# Configuration\n",
    "num_customers = 10000\n",
    "start_date = datetime.now() - timedelta(days=5*365)\n",
    "end_date = datetime.now()\n",
    "\n",
    "def generate_customer_record():\n",
    "    customer = {\n",
    "        \"customer_id\": fake.uuid4(),\n",
    "        \"name\": fake.name(),\n",
    "        \"email\": fake.email(),\n",
    "        \"phone\": fake.phone_number(),\n",
    "        \"address\": fake.address().replace(\"\\n\", \", \"),\n",
    "        \"signup_date\": fake.date_between(start_date=start_date, end_date=end_date),\n",
    "        \"age\": random.randint(18, 80),\n",
    "        \"gender\": random.choice([\"Male\", \"Female\", \"Other\"]),\n",
    "        \"country\": fake.country(),\n",
    "        \"loyalty_points\": random.randint(0, 5000)\n",
    "    }\n",
    "    return customer\n",
    "\n",
    "# Generate all records\n",
    "customer_data = [generate_customer_record() for _ in range(num_customers)]\n",
    "\n",
    "# Convert to DataFrame\n",
    "df = pd.DataFrame(customer_data)\n",
    "\n",
    "# Optional: Sort by signup date\n",
    "df = df.sort_values(\"signup_date\")\n",
    "\n",
    "# Save to CSV\n",
    "df.to_csv(\"customer_data_last_5_years.csv\", index=False)\n",
    "\n",
    "print(\"✅ Data generated and saved to 'customer_data_last_5_years.csv'\")\n"
   ]
  },
  {
   "cell_type": "code",
   "execution_count": null,
   "id": "8a117a7b-fc45-4c51-ac49-17645378ff0a",
   "metadata": {},
   "outputs": [],
   "source": []
  }
 ],
 "metadata": {
  "kernelspec": {
   "display_name": "Python 3 (ipykernel)",
   "language": "python",
   "name": "python3"
  },
  "language_info": {
   "codemirror_mode": {
    "name": "ipython",
    "version": 3
   },
   "file_extension": ".py",
   "mimetype": "text/x-python",
   "name": "python",
   "nbconvert_exporter": "python",
   "pygments_lexer": "ipython3",
   "version": "3.13.3"
  }
 },
 "nbformat": 4,
 "nbformat_minor": 5
}
